{
  "nbformat": 4,
  "nbformat_minor": 0,
  "metadata": {
    "colab": {
      "provenance": [],
      "gpuType": "T4"
    },
    "kernelspec": {
      "name": "python3",
      "display_name": "Python 3"
    },
    "language_info": {
      "name": "python"
    },
    "accelerator": "GPU"
  },
  "cells": [
    {
      "cell_type": "code",
      "source": [
        "pip install PyMuPDF"
      ],
      "metadata": {
        "colab": {
          "base_uri": "https://localhost:8080/"
        },
        "id": "LOQVSFi6q_2-",
        "outputId": "ec257d4c-8fa8-4694-f394-83530fe8de79"
      },
      "execution_count": null,
      "outputs": [
        {
          "output_type": "stream",
          "name": "stdout",
          "text": [
            "Collecting PyMuPDF\n",
            "  Downloading PyMuPDF-1.22.5-cp310-cp310-manylinux_2_17_x86_64.manylinux2014_x86_64.whl (14.1 MB)\n",
            "\u001b[2K     \u001b[90m━━━━━━━━━━━━━━━━━━━━━━━━━━━━━━━━━━━━━━━━\u001b[0m \u001b[32m14.1/14.1 MB\u001b[0m \u001b[31m26.2 MB/s\u001b[0m eta \u001b[36m0:00:00\u001b[0m\n",
            "\u001b[?25hInstalling collected packages: PyMuPDF\n",
            "Successfully installed PyMuPDF-1.22.5\n"
          ]
        }
      ]
    },
    {
      "cell_type": "code",
      "source": [
        "import fitz  # PyMuPDF\n",
        "\n",
        "def pdf_to_text(pdf_path):\n",
        "    text = \"\"\n",
        "    pdf_document = fitz.open(pdf_path)\n",
        "\n",
        "    for page_num in range(pdf_document.page_count):\n",
        "        page = pdf_document[page_num]\n",
        "        text += page.get_text()\n",
        "\n",
        "    pdf_document.close()\n",
        "    return text\n",
        "\n",
        "# Replace \"your_pdf_file.pdf\" with the actual path to your PDF file\n",
        "pdf_file = \"test-2.pdf\"\n",
        "extracted_text = pdf_to_text(pdf_file)\n",
        "\n",
        "output_text_file = \"test-2.txt\"\n",
        "\n",
        "# Write the extracted text to the output text file\n",
        "with open(output_text_file, 'w', encoding='utf-8') as file:\n",
        "    file.write(extracted_text)\n",
        "\n",
        "print(f\"Extracted text saved to {output_text_file}\")"
      ],
      "metadata": {
        "colab": {
          "base_uri": "https://localhost:8080/"
        },
        "id": "IIkmwe3nq7Am",
        "outputId": "9840a980-118a-4764-a41e-b639a48d5aad"
      },
      "execution_count": null,
      "outputs": [
        {
          "output_type": "stream",
          "name": "stdout",
          "text": [
            "Extracted text saved to test-2.txt\n"
          ]
        }
      ]
    },
    {
      "cell_type": "code",
      "execution_count": null,
      "metadata": {
        "colab": {
          "base_uri": "https://localhost:8080/"
        },
        "id": "L3mlbu04qPb_",
        "outputId": "e5358826-595a-4c93-cff4-a254a61c7aba"
      },
      "outputs": [
        {
          "output_type": "stream",
          "name": "stdout",
          "text": [
            "                      precision    recall  f1-score   support\n",
            "\n",
            "          recaptured       0.00      0.00      0.00       1.0\n",
            "             renewal       0.00      0.00      0.00       0.0\n",
            "           terminate       0.00      0.00      0.00       1.0\n",
            "terminate_this_lease       0.00      0.00      0.00       0.0\n",
            "\n",
            "            accuracy                           0.00       2.0\n",
            "           macro avg       0.00      0.00      0.00       2.0\n",
            "        weighted avg       0.00      0.00      0.00       2.0\n",
            "\n",
            "Predicted Insight: legal_action\n"
          ]
        },
        {
          "output_type": "stream",
          "name": "stderr",
          "text": [
            "/usr/local/lib/python3.10/dist-packages/sklearn/metrics/_classification.py:1344: UndefinedMetricWarning: Precision and F-score are ill-defined and being set to 0.0 in labels with no predicted samples. Use `zero_division` parameter to control this behavior.\n",
            "  _warn_prf(average, modifier, msg_start, len(result))\n",
            "/usr/local/lib/python3.10/dist-packages/sklearn/metrics/_classification.py:1344: UndefinedMetricWarning: Recall and F-score are ill-defined and being set to 0.0 in labels with no true samples. Use `zero_division` parameter to control this behavior.\n",
            "  _warn_prf(average, modifier, msg_start, len(result))\n",
            "/usr/local/lib/python3.10/dist-packages/sklearn/metrics/_classification.py:1344: UndefinedMetricWarning: Precision and F-score are ill-defined and being set to 0.0 in labels with no predicted samples. Use `zero_division` parameter to control this behavior.\n",
            "  _warn_prf(average, modifier, msg_start, len(result))\n",
            "/usr/local/lib/python3.10/dist-packages/sklearn/metrics/_classification.py:1344: UndefinedMetricWarning: Recall and F-score are ill-defined and being set to 0.0 in labels with no true samples. Use `zero_division` parameter to control this behavior.\n",
            "  _warn_prf(average, modifier, msg_start, len(result))\n",
            "/usr/local/lib/python3.10/dist-packages/sklearn/metrics/_classification.py:1344: UndefinedMetricWarning: Precision and F-score are ill-defined and being set to 0.0 in labels with no predicted samples. Use `zero_division` parameter to control this behavior.\n",
            "  _warn_prf(average, modifier, msg_start, len(result))\n",
            "/usr/local/lib/python3.10/dist-packages/sklearn/metrics/_classification.py:1344: UndefinedMetricWarning: Recall and F-score are ill-defined and being set to 0.0 in labels with no true samples. Use `zero_division` parameter to control this behavior.\n",
            "  _warn_prf(average, modifier, msg_start, len(result))\n"
          ]
        }
      ],
      "source": [
        "import pandas as pd\n",
        "from sklearn.model_selection import train_test_split\n",
        "from sklearn.feature_extraction.text import CountVectorizer\n",
        "from sklearn.naive_bayes import MultinomialNB\n",
        "from sklearn.metrics import classification_report\n",
        "import joblib\n",
        "\n",
        "data = {\n",
        "    \"text\": [\n",
        "        \"Legal action may be taken in case of disputes.\",\n",
        "        \"The Government may terminate this lease in whole or in part at any time.\",\n",
        "        \"Any improper conduct will result in termination.\",\n",
        "        \"Renewal options available.\",\n",
        "        \"Recapture clause is included.\",\n",
        "        \"Tax implications discussed.\",\n",
        "        \"continuing for a period of 10 years, with a firm term of five (5) years subject to termination and renewal\",\n",
        "        \"This lease is subject to real estate tax adjustment as established in Paragraph\",\n",
        "        \"fully recaptured\",\n",
        "        \"writing to the Lessor the Government may terminate this lease in whole or part and no rental shall \"\n",
        "\n",
        "        # Add more examples here...\n",
        "    ],\n",
        "    \"insight\": [\n",
        "        \"legal_action\",\n",
        "        \"terminate\",\n",
        "        \"improper_conduct\",\n",
        "        \"renewal\",\n",
        "        \"recapture\",\n",
        "        \"tax\",\n",
        "        \"renewal\",\n",
        "        \"tax_adjustment\",\n",
        "        \"recaptured\",\n",
        "        \"terminate_this_lease\"\n",
        "        # Add corresponding insights for each example...\n",
        "    ]\n",
        "}\n",
        "\n",
        "df = pd.DataFrame(data)\n",
        "\n",
        "train_df, test_df = train_test_split(df, test_size=0.2, random_state=42)\n",
        "\n",
        "vectorizer = CountVectorizer(lowercase=True)\n",
        "X_train = vectorizer.fit_transform(train_df['text'])\n",
        "X_test = vectorizer.transform(test_df['text'])\n",
        "\n",
        "classifier = MultinomialNB()\n",
        "classifier.fit(X_train, train_df['insight'])\n",
        "\n",
        "trained_model_filename = \"trained_model.joblib\"\n",
        "joblib.dump(classifier, trained_model_filename)\n",
        "\n",
        "vectorizer_filename = \"vectorizer.joblib\"\n",
        "joblib.dump(vectorizer, vectorizer_filename)\n",
        "\n",
        "predictions = classifier.predict(X_test)\n",
        "\n",
        "print(classification_report(test_df['insight'], predictions))\n",
        "\n",
        "new_lease_text = \"Legal proceedings may arise in case of violations.\"\n",
        "new_lease_features = vectorizer.transform([new_lease_text])\n",
        "predicted_insight = classifier.predict(new_lease_features)\n",
        "print(\"Predicted Insight:\", predicted_insight[0])\n"
      ]
    },
    {
      "cell_type": "code",
      "source": [
        "trained_model = \"trained_model.joblib\"  # Replace with your trained model's file\n",
        "vectorizer_file = \"vectorizer.joblib\"    # Replace with your vectorizer's file\n",
        "\n",
        "vectorizer = CountVectorizer(lowercase=True)\n",
        "\n",
        "vectorizer = joblib.load(vectorizer_file)\n",
        "\n",
        "classifier = joblib.load(trained_model)\n",
        "\n",
        "new_lease_file = \"test-2.txt\"\n",
        "with open(new_lease_file, 'r') as file:\n",
        "    new_lease_text = file.read()\n",
        "\n",
        "new_lease_features = vectorizer.transform([new_lease_text])\n",
        "\n",
        "proba = classifier.predict_proba(new_lease_features)\n",
        "\n",
        "insights = {}\n",
        "for i, insight in enumerate(classifier.classes_):\n",
        "    keyword = insight.replace(\"_\", \" \")  # Convert insight to keyword\n",
        "    keyword_index = new_lease_text.lower().find(keyword)  # Find the keyword in the text\n",
        "    if keyword_index != -1:\n",
        "        start = new_lease_text.rfind(\"\\n\", 0, keyword_index) + 1\n",
        "        end = new_lease_text.find(\"\\n\", keyword_index)\n",
        "        if end == -1:\n",
        "            end = len(new_lease_text)\n",
        "        statement = new_lease_text[start:end].strip()\n",
        "    else:\n",
        "        statement = \"Keyword not found\"\n",
        "\n",
        "    insights[insight] = {\n",
        "        \"probability\": proba[0][i],\n",
        "        \"statement\": statement\n",
        "    }\n",
        "\n",
        "# Print all predicted insights and their corresponding statements\n",
        "for insight, info in insights.items():\n",
        "    print(f\"Insight: {insight}, Probability: {info['probability']:.4f}\")\n",
        "    print(f\"Statement: {info['statement']}\\n\")"
      ],
      "metadata": {
        "colab": {
          "base_uri": "https://localhost:8080/"
        },
        "id": "KnOgFw0Xqd0q",
        "outputId": "d61a314d-1d77-4b97-9d3c-df3b2a5b9a94"
      },
      "execution_count": null,
      "outputs": [
        {
          "output_type": "stream",
          "name": "stdout",
          "text": [
            "Insight: improper_conduct, Probability: 0.0000\n",
            "Statement: Keyword not found\n",
            "\n",
            "Insight: legal_action, Probability: 0.0000\n",
            "Statement: Keyword not found\n",
            "\n",
            "Insight: recapture, Probability: 0.0000\n",
            "Statement: rentaT\"payments due and owing shall be reduced to fully recapture this Commission Credit. The reduction in\n",
            "\n",
            "Insight: renewal, Probability: 0.0000\n",
            "Statement: continuing for a period of 10 years, with a firm term of five (5) years subject to termination and renewal\n",
            "\n",
            "Insight: tax, Probability: 0.0000\n",
            "Statement: Tax ID# 20-2579947\n",
            "\n",
            "Insight: tax_adjustment, Probability: 0.0000\n",
            "Statement: 12. This lease is subject to real estate tax adjustment as established in Paragraph 4.2 Tax Adjustment of\n",
            "\n",
            "Insight: terminate_this_lease, Probability: 1.0000\n",
            "Statement: 4. The Government may terminate this lease in whole or in part at any time on or after the fifth (5th) year of\n",
            "\n"
          ]
        }
      ]
    }
  ]
}